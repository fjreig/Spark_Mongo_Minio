{
 "cells": [
  {
   "cell_type": "code",
   "execution_count": 1,
   "id": "06b59e53-2153-4c98-aa5c-77bf83836b74",
   "metadata": {},
   "outputs": [],
   "source": [
    "import pyspark\n",
    "from pyspark import SparkContext\n",
    "from pyspark.sql import SparkSession\n",
    "from pyspark.sql import SQLContext"
   ]
  },
  {
   "cell_type": "code",
   "execution_count": 2,
   "id": "32625a90-9f92-4e15-af95-3068ffc68b81",
   "metadata": {},
   "outputs": [
    {
     "name": "stdout",
     "output_type": "stream",
     "text": [
      "3.2.1\n"
     ]
    }
   ],
   "source": [
    "print(pyspark.__version__)"
   ]
  },
  {
   "cell_type": "code",
   "execution_count": 3,
   "id": "088141ee-5166-485e-b437-fdcaa9127f34",
   "metadata": {},
   "outputs": [],
   "source": [
    "url = 'mongodb://mongodb:27017/airlines.flys'"
   ]
  },
  {
   "cell_type": "code",
   "execution_count": 4,
   "id": "9432f9f5-1095-4441-a0a9-d806c217c66c",
   "metadata": {},
   "outputs": [],
   "source": [
    "spark = (SparkSession\n",
    "         .builder\n",
    "         .master('local[*]')\n",
    "         .config('spark.driver.extraClassPath','path_to_jars/*')\n",
    "         .config(\"spark.mongodb.read.connection.uri\",url)\n",
    "         .config(\"spark.mongodb.write.connection.uri\", url)\n",
    "         .getOrCreate()\n",
    "         )"
   ]
  },
  {
   "cell_type": "code",
   "execution_count": 5,
   "id": "5dd5028e-73bc-426f-8ca3-06cea1fccbac",
   "metadata": {},
   "outputs": [],
   "source": [
    "df = spark.read.format(\"mongodb\").load()"
   ]
  },
  {
   "cell_type": "code",
   "execution_count": 6,
   "id": "73e605a7-5a37-490a-854d-06b7d84da82d",
   "metadata": {},
   "outputs": [
    {
     "name": "stdout",
     "output_type": "stream",
     "text": [
      "+--------------------+------+---------------+--------------+----+----+--------------------+\n",
      "|                 _id|active|       callsign|       country|iata|icao|                name|\n",
      "+--------------------+------+---------------+--------------+----+----+--------------------+\n",
      "|649c5998abcec416b...|     Y|               |              |   -| N/A|      Private flight|\n",
      "|649c5998abcec416b...|     N|        GENERAL| United States|    | GNL|         135 Airways|\n",
      "|649c5998abcec416b...|     Y|        NEXTIME|  South Africa|  1T| RNX|       1Time Airline|\n",
      "|649c5998abcec416b...|     N|               |United Kingdom|    | WYT|2 Sqn No 1 Elemen...|\n",
      "|649c5998abcec416b...|     N|               |        Russia|    | TFU|     213 Flight Unit|\n",
      "|649c5998abcec416b...|     N| CHKALOVSK-AVIA|        Russia|    | CHD|223 Flight Unit S...|\n",
      "|649c5998abcec416b...|     N|     CARGO UNIT|        Russia|    | TTF|   224th Flight Unit|\n",
      "|649c5998abcec416b...|     N|   CLOUD RUNNER|United Kingdom|    | TWF|         247 Jet Ltd|\n",
      "|649c5998abcec416b...|     N|        SECUREX| United States|    | SEC|         3D Aviation|\n",
      "|649c5998abcec416b...|     Y|       MILE-AIR| United States|  Q5| MLA|         40-Mile Air|\n",
      "|649c5998abcec416b...|     N|        QUARTET|      Thailand|    | QRT|              4D Air|\n",
      "|649c5998abcec416b...|     N|          DONUT|        Canada|    | THD|611897 Alberta Li...|\n",
      "|649c5998abcec416b...|     Y|         ANSETT|     Australia|  AN| AAA|    Ansett Australia|\n",
      "|649c5998abcec416b...|     Y|               |     Singapore|  1B|    |Abacus International|\n",
      "|649c5998abcec416b...|     N|            ABG|       Belgium|  W9| AAB|     Abelag Aviation|\n",
      "|649c5998abcec416b...|     N|        ARMYAIR|United Kingdom|    | AAC|      Army Air Corps|\n",
      "|649c5998abcec416b...|     N|        SUNRISE|        Canada|    | AAD|Aero Aviation Cen...|\n",
      "|649c5998abcec416b...|     N|         ASEISA|        Mexico|    | SII|Aero Servicios Ej...|\n",
      "|649c5998abcec416b...|     N|         BINIZA|        Mexico|    | BZS|         Aero Biniza|\n",
      "|649c5998abcec416b...|     N|ALBATROS ESPANA|         Spain|    | ABM|       Aero Albatros|\n",
      "+--------------------+------+---------------+--------------+----+----+--------------------+\n",
      "only showing top 20 rows\n",
      "\n"
     ]
    }
   ],
   "source": [
    "df.show()"
   ]
  },
  {
   "cell_type": "code",
   "execution_count": 7,
   "id": "94776d4b-8b46-47dc-9dcc-8a4944b97a9f",
   "metadata": {},
   "outputs": [],
   "source": [
    "df.createOrReplaceTempView(\"airlines\")"
   ]
  },
  {
   "cell_type": "code",
   "execution_count": 8,
   "id": "b63e8e72-1460-48f1-b863-e3a87d74182c",
   "metadata": {},
   "outputs": [
    {
     "name": "stdout",
     "output_type": "stream",
     "text": [
      "root\n",
      " |-- _id: string (nullable = true)\n",
      " |-- active: string (nullable = true)\n",
      " |-- callsign: string (nullable = true)\n",
      " |-- country: string (nullable = true)\n",
      " |-- iata: string (nullable = true)\n",
      " |-- icao: string (nullable = true)\n",
      " |-- name: string (nullable = true)\n",
      "\n"
     ]
    }
   ],
   "source": [
    "df.printSchema()"
   ]
  },
  {
   "cell_type": "code",
   "execution_count": 9,
   "id": "93dfe53f-1d69-40a2-a9b3-d2a5ecde9b59",
   "metadata": {},
   "outputs": [],
   "source": [
    "df_group = spark.sql(\"\"\"SELECT country, count(*) as Numero\n",
    "            FROM airlines\n",
    "            group by country \"\"\")"
   ]
  },
  {
   "cell_type": "code",
   "execution_count": 10,
   "id": "e4a8c680-aba7-4da8-a541-caa205b806ee",
   "metadata": {},
   "outputs": [
    {
     "name": "stdout",
     "output_type": "stream",
     "text": [
      "+--------------------+------+\n",
      "|             country|Numero|\n",
      "+--------------------+------+\n",
      "|                    |    15|\n",
      "|       United States|  1080|\n",
      "|        South Africa|    91|\n",
      "|      United Kingdom|   407|\n",
      "|              Russia|   230|\n",
      "|            Thailand|    48|\n",
      "|              Canada|   318|\n",
      "|           Australia|    93|\n",
      "|           Singapore|    11|\n",
      "|             Belgium|    27|\n",
      "|              Mexico|   439|\n",
      "|               Spain|   166|\n",
      "|              France|   119|\n",
      "|United Arab Emirates|    31|\n",
      "|   Republic of Korea|     8|\n",
      "|            Pakistan|    29|\n",
      "|               Libya|    26|\n",
      "|              Gambia|     6|\n",
      "|         Ivory Coast|    17|\n",
      "|             Ukraine|    89|\n",
      "+--------------------+------+\n",
      "only showing top 20 rows\n",
      "\n"
     ]
    }
   ],
   "source": [
    "df_group.show()"
   ]
  },
  {
   "cell_type": "code",
   "execution_count": 11,
   "id": "7f443668-a3ac-4793-becd-8752c4c35cb3",
   "metadata": {},
   "outputs": [],
   "source": [
    "df_group.write.parquet(\"Resultados.parquet\") "
   ]
  },
  {
   "cell_type": "code",
   "execution_count": null,
   "id": "d3c0fc39-49ed-481a-baae-1b4a270fcaec",
   "metadata": {},
   "outputs": [],
   "source": []
  }
 ],
 "metadata": {
  "kernelspec": {
   "display_name": "Python 3 (ipykernel)",
   "language": "python",
   "name": "python3"
  },
  "language_info": {
   "codemirror_mode": {
    "name": "ipython",
    "version": 3
   },
   "file_extension": ".py",
   "mimetype": "text/x-python",
   "name": "python",
   "nbconvert_exporter": "python",
   "pygments_lexer": "ipython3",
   "version": "3.10.5"
  }
 },
 "nbformat": 4,
 "nbformat_minor": 5
}
