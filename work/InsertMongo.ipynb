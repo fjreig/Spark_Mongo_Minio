{
 "cells": [
  {
   "cell_type": "code",
   "execution_count": 3,
   "id": "277f6dc6-9f1c-4cf3-92ae-df570e3168cc",
   "metadata": {},
   "outputs": [],
   "source": [
    "#pip install pymongo"
   ]
  },
  {
   "cell_type": "code",
   "execution_count": 1,
   "id": "05e7b76a-12ba-4a87-8e88-89c1c7128460",
   "metadata": {},
   "outputs": [],
   "source": [
    "import pymongo\n",
    "import json\n",
    "import pandas as pd"
   ]
  },
  {
   "cell_type": "markdown",
   "id": "b02344d5-8332-455c-93f6-da208a2be5ca",
   "metadata": {},
   "source": [
    "### 1. Crear Dataframe"
   ]
  },
  {
   "cell_type": "code",
   "execution_count": 2,
   "id": "6e2ad7f1-1bec-401d-a9f7-b2bc7db6b5c3",
   "metadata": {},
   "outputs": [],
   "source": [
    "df = pd.read_json('airlines.json')"
   ]
  },
  {
   "cell_type": "code",
   "execution_count": 3,
   "id": "6c4e1b96-fd99-4b21-834d-f4e550c8bfa1",
   "metadata": {},
   "outputs": [],
   "source": [
    "df = df.drop(['id', 'alias'], axis=1)"
   ]
  },
  {
   "cell_type": "code",
   "execution_count": 4,
   "id": "5fda52eb-d7d4-4aad-909a-48644b25c15c",
   "metadata": {},
   "outputs": [
    {
     "data": {
      "text/html": [
       "<div>\n",
       "<style scoped>\n",
       "    .dataframe tbody tr th:only-of-type {\n",
       "        vertical-align: middle;\n",
       "    }\n",
       "\n",
       "    .dataframe tbody tr th {\n",
       "        vertical-align: top;\n",
       "    }\n",
       "\n",
       "    .dataframe thead th {\n",
       "        text-align: right;\n",
       "    }\n",
       "</style>\n",
       "<table border=\"1\" class=\"dataframe\">\n",
       "  <thead>\n",
       "    <tr style=\"text-align: right;\">\n",
       "      <th></th>\n",
       "      <th>name</th>\n",
       "      <th>iata</th>\n",
       "      <th>icao</th>\n",
       "      <th>callsign</th>\n",
       "      <th>country</th>\n",
       "      <th>active</th>\n",
       "    </tr>\n",
       "  </thead>\n",
       "  <tbody>\n",
       "    <tr>\n",
       "      <th>0</th>\n",
       "      <td>Private flight</td>\n",
       "      <td>-</td>\n",
       "      <td>N/A</td>\n",
       "      <td></td>\n",
       "      <td></td>\n",
       "      <td>Y</td>\n",
       "    </tr>\n",
       "    <tr>\n",
       "      <th>1</th>\n",
       "      <td>135 Airways</td>\n",
       "      <td></td>\n",
       "      <td>GNL</td>\n",
       "      <td>GENERAL</td>\n",
       "      <td>United States</td>\n",
       "      <td>N</td>\n",
       "    </tr>\n",
       "    <tr>\n",
       "      <th>2</th>\n",
       "      <td>1Time Airline</td>\n",
       "      <td>1T</td>\n",
       "      <td>RNX</td>\n",
       "      <td>NEXTIME</td>\n",
       "      <td>South Africa</td>\n",
       "      <td>Y</td>\n",
       "    </tr>\n",
       "    <tr>\n",
       "      <th>3</th>\n",
       "      <td>2 Sqn No 1 Elementary Flying Training School</td>\n",
       "      <td></td>\n",
       "      <td>WYT</td>\n",
       "      <td></td>\n",
       "      <td>United Kingdom</td>\n",
       "      <td>N</td>\n",
       "    </tr>\n",
       "    <tr>\n",
       "      <th>4</th>\n",
       "      <td>213 Flight Unit</td>\n",
       "      <td></td>\n",
       "      <td>TFU</td>\n",
       "      <td></td>\n",
       "      <td>Russia</td>\n",
       "      <td>N</td>\n",
       "    </tr>\n",
       "    <tr>\n",
       "      <th>...</th>\n",
       "      <td>...</td>\n",
       "      <td>...</td>\n",
       "      <td>...</td>\n",
       "      <td>...</td>\n",
       "      <td>...</td>\n",
       "      <td>...</td>\n",
       "    </tr>\n",
       "    <tr>\n",
       "      <th>6060</th>\n",
       "      <td>Indonesia AirAsia X</td>\n",
       "      <td>XT</td>\n",
       "      <td>IDX</td>\n",
       "      <td>RED PHOENIX</td>\n",
       "      <td>Indonesia</td>\n",
       "      <td>Y</td>\n",
       "    </tr>\n",
       "    <tr>\n",
       "      <th>6061</th>\n",
       "      <td>Qatar Executive</td>\n",
       "      <td>QE</td>\n",
       "      <td>QQE</td>\n",
       "      <td>QREX</td>\n",
       "      <td>Qatar</td>\n",
       "      <td>Y</td>\n",
       "    </tr>\n",
       "    <tr>\n",
       "      <th>6062</th>\n",
       "      <td>SF Airlines</td>\n",
       "      <td>O3</td>\n",
       "      <td>CSS</td>\n",
       "      <td>SHUN FENG</td>\n",
       "      <td>China</td>\n",
       "      <td>Y</td>\n",
       "    </tr>\n",
       "    <tr>\n",
       "      <th>6063</th>\n",
       "      <td>Regent Airways</td>\n",
       "      <td>RX</td>\n",
       "      <td>RGE</td>\n",
       "      <td>REGENT</td>\n",
       "      <td>Bangladesh</td>\n",
       "      <td>Y</td>\n",
       "    </tr>\n",
       "    <tr>\n",
       "      <th>6064</th>\n",
       "      <td>AsiaCargo Express</td>\n",
       "      <td>3G</td>\n",
       "      <td>CXM</td>\n",
       "      <td>ASIA CARGO</td>\n",
       "      <td>Malaysia</td>\n",
       "      <td>Y</td>\n",
       "    </tr>\n",
       "  </tbody>\n",
       "</table>\n",
       "<p>6065 rows × 6 columns</p>\n",
       "</div>"
      ],
      "text/plain": [
       "                                              name iata icao     callsign  \\\n",
       "0                                   Private flight    -  N/A                \n",
       "1                                      135 Airways       GNL      GENERAL   \n",
       "2                                    1Time Airline   1T  RNX      NEXTIME   \n",
       "3     2 Sqn No 1 Elementary Flying Training School       WYT                \n",
       "4                                  213 Flight Unit       TFU                \n",
       "...                                            ...  ...  ...          ...   \n",
       "6060                           Indonesia AirAsia X   XT  IDX  RED PHOENIX   \n",
       "6061                               Qatar Executive   QE  QQE         QREX   \n",
       "6062                                   SF Airlines   O3  CSS    SHUN FENG   \n",
       "6063                                Regent Airways   RX  RGE       REGENT   \n",
       "6064                             AsiaCargo Express   3G  CXM   ASIA CARGO   \n",
       "\n",
       "             country active  \n",
       "0                         Y  \n",
       "1      United States      N  \n",
       "2       South Africa      Y  \n",
       "3     United Kingdom      N  \n",
       "4             Russia      N  \n",
       "...              ...    ...  \n",
       "6060       Indonesia      Y  \n",
       "6061           Qatar      Y  \n",
       "6062           China      Y  \n",
       "6063      Bangladesh      Y  \n",
       "6064        Malaysia      Y  \n",
       "\n",
       "[6065 rows x 6 columns]"
      ]
     },
     "execution_count": 4,
     "metadata": {},
     "output_type": "execute_result"
    }
   ],
   "source": [
    "df"
   ]
  },
  {
   "cell_type": "markdown",
   "id": "efe620f7-7a2c-4764-b6a4-ce8518ebcc1d",
   "metadata": {},
   "source": [
    "### 2. Enviar a MongoDB"
   ]
  },
  {
   "cell_type": "code",
   "execution_count": 8,
   "id": "4558cb89-fede-4f65-99da-43a12b995ade",
   "metadata": {},
   "outputs": [],
   "source": [
    "client = pymongo.MongoClient(\"mongodb://mongodb:27017/\")"
   ]
  },
  {
   "cell_type": "code",
   "execution_count": 9,
   "id": "c4d38540-3c2e-447d-ac83-2f2ff85f2e58",
   "metadata": {},
   "outputs": [],
   "source": [
    "db = client[\"airlines\"][\"flys\"]"
   ]
  },
  {
   "cell_type": "code",
   "execution_count": 10,
   "id": "731c37df-2ee7-4a14-8b46-b8bc72d4a630",
   "metadata": {},
   "outputs": [
    {
     "data": {
      "text/plain": [
       "<pymongo.results.InsertManyResult at 0x7fdd884cbc40>"
      ]
     },
     "execution_count": 10,
     "metadata": {},
     "output_type": "execute_result"
    }
   ],
   "source": [
    "db.insert_many(df.to_dict('records'))"
   ]
  },
  {
   "cell_type": "code",
   "execution_count": null,
   "id": "627a623b-1459-4868-8a52-944b74d23879",
   "metadata": {},
   "outputs": [],
   "source": []
  }
 ],
 "metadata": {
  "kernelspec": {
   "display_name": "Python 3 (ipykernel)",
   "language": "python",
   "name": "python3"
  },
  "language_info": {
   "codemirror_mode": {
    "name": "ipython",
    "version": 3
   },
   "file_extension": ".py",
   "mimetype": "text/x-python",
   "name": "python",
   "nbconvert_exporter": "python",
   "pygments_lexer": "ipython3",
   "version": "3.10.5"
  }
 },
 "nbformat": 4,
 "nbformat_minor": 5
}
