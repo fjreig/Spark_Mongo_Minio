{
 "cells": [
  {
   "cell_type": "code",
   "execution_count": 22,
   "id": "05e7b76a-12ba-4a87-8e88-89c1c7128460",
   "metadata": {},
   "outputs": [],
   "source": [
    "import pyspark\n",
    "from pyspark import SparkContext\n",
    "from pyspark.sql import SparkSession\n",
    "from pyspark.sql import SQLContext"
   ]
  },
  {
   "cell_type": "code",
   "execution_count": 23,
   "id": "1ed064c3-a038-4450-bcdc-1030bc209de3",
   "metadata": {},
   "outputs": [],
   "source": [
    "url = 'mongodb://mongodb:27017/airlines.flys'"
   ]
  },
  {
   "cell_type": "code",
   "execution_count": 24,
   "id": "751b7f80-2f8b-4517-b2c0-59493a990fde",
   "metadata": {},
   "outputs": [],
   "source": [
    "spark = (SparkSession\n",
    "         .builder\n",
    "         .master('local[*]')\n",
    "         .config('spark.driver.extraClassPath','path_to_jars/*')\n",
    "         .config(\"spark.mongodb.read.connection.uri\",url)\n",
    "         .config(\"spark.mongodb.write.connection.uri\", url)\n",
    "         .getOrCreate()\n",
    "         )"
   ]
  },
  {
   "cell_type": "code",
   "execution_count": 25,
   "id": "45aee4aa-3133-47bc-8e4b-c2ae171d323e",
   "metadata": {},
   "outputs": [],
   "source": [
    "df = spark.read.json(\"airlines.json\")"
   ]
  },
  {
   "cell_type": "code",
   "execution_count": 26,
   "id": "2bd601f5-71cb-4cbd-ba38-d92b88c774f2",
   "metadata": {},
   "outputs": [],
   "source": [
    "df = df.drop(\"id\",\"alias\", \"_corrupt_record\")"
   ]
  },
  {
   "cell_type": "code",
   "execution_count": 27,
   "id": "67f6579c-bd78-4b5a-92aa-e39f6e303d24",
   "metadata": {},
   "outputs": [],
   "source": [
    "df = df.na.drop()"
   ]
  },
  {
   "cell_type": "code",
   "execution_count": 28,
   "id": "adebd98a-4e8a-473d-86d3-2a21d5210f1e",
   "metadata": {},
   "outputs": [
    {
     "name": "stdout",
     "output_type": "stream",
     "text": [
      "+------+---------------+--------------+----+----+--------------------+\n",
      "|active|       callsign|       country|iata|icao|                name|\n",
      "+------+---------------+--------------+----+----+--------------------+\n",
      "|     Y|               |              |   -| N/A|      Private flight|\n",
      "|     N|        GENERAL| United States|    | GNL|         135 Airways|\n",
      "|     Y|        NEXTIME|  South Africa|  1T| RNX|       1Time Airline|\n",
      "|     N|               |United Kingdom|    | WYT|2 Sqn No 1 Elemen...|\n",
      "|     N|               |        Russia|    | TFU|     213 Flight Unit|\n",
      "|     N| CHKALOVSK-AVIA|        Russia|    | CHD|223 Flight Unit S...|\n",
      "|     N|     CARGO UNIT|        Russia|    | TTF|   224th Flight Unit|\n",
      "|     N|   CLOUD RUNNER|United Kingdom|    | TWF|         247 Jet Ltd|\n",
      "|     N|        SECUREX| United States|    | SEC|         3D Aviation|\n",
      "|     Y|       MILE-AIR| United States|  Q5| MLA|         40-Mile Air|\n",
      "|     N|        QUARTET|      Thailand|    | QRT|              4D Air|\n",
      "|     N|          DONUT|        Canada|    | THD|611897 Alberta Li...|\n",
      "|     Y|         ANSETT|     Australia|  AN| AAA|    Ansett Australia|\n",
      "|     Y|               |     Singapore|  1B|    |Abacus International|\n",
      "|     N|            ABG|       Belgium|  W9| AAB|     Abelag Aviation|\n",
      "|     N|        ARMYAIR|United Kingdom|    | AAC|      Army Air Corps|\n",
      "|     N|        SUNRISE|        Canada|    | AAD|Aero Aviation Cen...|\n",
      "|     N|         ASEISA|        Mexico|    | SII|Aero Servicios Ej...|\n",
      "|     N|         BINIZA|        Mexico|    | BZS|         Aero Biniza|\n",
      "|     N|ALBATROS ESPANA|         Spain|    | ABM|       Aero Albatros|\n",
      "+------+---------------+--------------+----+----+--------------------+\n",
      "only showing top 20 rows\n",
      "\n"
     ]
    }
   ],
   "source": [
    "df.show()"
   ]
  },
  {
   "cell_type": "code",
   "execution_count": 29,
   "id": "86690da8-35d3-4278-bc91-78deb446ceba",
   "metadata": {},
   "outputs": [],
   "source": [
    "df.write.format(\"mongodb\").mode(\"append\").save()"
   ]
  },
  {
   "cell_type": "code",
   "execution_count": null,
   "id": "d23a6608-f9cf-4b68-9d42-681c9d43e02c",
   "metadata": {},
   "outputs": [],
   "source": []
  }
 ],
 "metadata": {
  "kernelspec": {
   "display_name": "Python 3 (ipykernel)",
   "language": "python",
   "name": "python3"
  },
  "language_info": {
   "codemirror_mode": {
    "name": "ipython",
    "version": 3
   },
   "file_extension": ".py",
   "mimetype": "text/x-python",
   "name": "python",
   "nbconvert_exporter": "python",
   "pygments_lexer": "ipython3",
   "version": "3.10.5"
  }
 },
 "nbformat": 4,
 "nbformat_minor": 5
}
