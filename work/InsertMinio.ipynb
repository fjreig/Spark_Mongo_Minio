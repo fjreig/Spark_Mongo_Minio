{
 "cells": [
  {
   "cell_type": "code",
   "execution_count": 1,
   "id": "bdf7fa27-58d8-45c4-aa74-c0ff1c4db94f",
   "metadata": {},
   "outputs": [],
   "source": [
    "import pyspark\n",
    "from pyspark import SparkContext\n",
    "from pyspark.sql import SparkSession\n",
    "from pyspark.sql import SQLContext\n",
    "from pyspark.sql.functions import *\n",
    "from delta import *"
   ]
  },
  {
   "cell_type": "code",
   "execution_count": 2,
   "id": "3bfb3885-76e4-4063-a5fb-c10509e52a19",
   "metadata": {},
   "outputs": [],
   "source": [
    "builder = pyspark.sql.SparkSession.builder.appName(\"DeltaApp\") \\\n",
    "    .config(\"spark.sql.extensions\", \"io.delta.sql.DeltaSparkSessionExtension\") \\\n",
    "    .config(\"spark.sql.catalog.spark_catalog\", \"org.apache.spark.sql.delta.catalog.DeltaCatalog\") "
   ]
  },
  {
   "cell_type": "code",
   "execution_count": 3,
   "id": "ba82b776-d969-4f2f-b99c-4fdb32e53436",
   "metadata": {},
   "outputs": [],
   "source": [
    "spark = configure_spark_with_delta_pip(builder).master('local[*]').getOrCreate()"
   ]
  },
  {
   "cell_type": "code",
   "execution_count": 4,
   "id": "f4c4a47a-6c05-47bd-b374-2fb5390a2ef0",
   "metadata": {},
   "outputs": [],
   "source": [
    "spark._jsc.hadoopConfiguration().set(\"fs.s3a.endpoint\", \"http://minio:9000\")\n",
    "spark._jsc.hadoopConfiguration().set(\"fs.s3a.access.key\", \"FFD34B2AC56E76E8BB9E7EFD7D283\")\n",
    "spark._jsc.hadoopConfiguration().set(\"fs.s3a.secret.key\", \"47A13EFAB1CA1F253FD6F56DEF769\")\n",
    "spark._jsc.hadoopConfiguration().set(\"fs.s3a.impl\",\"org.apache.hadoop.fs.s3a.S3AFileSystem\")\n",
    "spark._jsc.hadoopConfiguration().set(\"fs.s3a.path.style.access\", \"true\")\n",
    "spark._jsc.hadoopConfiguration().set(\"fs.s3a.aws.credentials.provider\",\"org.apache.hadoop.fs.s3a.SimpleAWSCredentialsProvider\")\n",
    "spark._jsc.hadoopConfiguration().set(\"spark.jars\", \"postgresql-42.2.14.jar\")"
   ]
  },
  {
   "cell_type": "markdown",
   "id": "1f834e59-822c-4f73-b1bd-314d119a36b8",
   "metadata": {},
   "source": [
    "### 1. Leer Parquet"
   ]
  },
  {
   "cell_type": "code",
   "execution_count": 9,
   "id": "bd67634e-c10e-43ed-8ae0-b789fdf6528d",
   "metadata": {},
   "outputs": [],
   "source": [
    "df = spark.read.parquet(\"Resultados.parquet\")"
   ]
  },
  {
   "cell_type": "code",
   "execution_count": 10,
   "id": "a74d88f3-7bbd-4b6c-8c2d-6a6b7e51f6c8",
   "metadata": {},
   "outputs": [
    {
     "name": "stdout",
     "output_type": "stream",
     "text": [
      "+--------------------+------+\n",
      "|             country|Numero|\n",
      "+--------------------+------+\n",
      "|                    |    15|\n",
      "|       United States|  1080|\n",
      "|        South Africa|    91|\n",
      "|      United Kingdom|   407|\n",
      "|              Russia|   230|\n",
      "|            Thailand|    48|\n",
      "|              Canada|   318|\n",
      "|           Australia|    93|\n",
      "|           Singapore|    11|\n",
      "|             Belgium|    27|\n",
      "|              Mexico|   439|\n",
      "|               Spain|   166|\n",
      "|              France|   119|\n",
      "|United Arab Emirates|    31|\n",
      "|   Republic of Korea|     8|\n",
      "|            Pakistan|    29|\n",
      "|               Libya|    26|\n",
      "|              Gambia|     6|\n",
      "|         Ivory Coast|    17|\n",
      "|             Ukraine|    89|\n",
      "+--------------------+------+\n",
      "only showing top 20 rows\n",
      "\n"
     ]
    }
   ],
   "source": [
    "df.show()"
   ]
  },
  {
   "cell_type": "markdown",
   "id": "39c6ec12-5ba5-46f0-8e86-f7601e256afd",
   "metadata": {},
   "source": [
    "### 2. Guardar el dataframe en Minio"
   ]
  },
  {
   "cell_type": "code",
   "execution_count": 17,
   "id": "b4f203e9-de42-4732-b604-bfa32ac52d3c",
   "metadata": {},
   "outputs": [],
   "source": [
    "df.write.format('json').options(delimiter='|').mode('overwrite').save('s3a://landing/BTC')"
   ]
  },
  {
   "cell_type": "code",
   "execution_count": null,
   "id": "16fc7bc0-9f06-4ca8-a164-f98d99c24f1a",
   "metadata": {},
   "outputs": [],
   "source": []
  }
 ],
 "metadata": {
  "kernelspec": {
   "display_name": "Python 3 (ipykernel)",
   "language": "python",
   "name": "python3"
  },
  "language_info": {
   "codemirror_mode": {
    "name": "ipython",
    "version": 3
   },
   "file_extension": ".py",
   "mimetype": "text/x-python",
   "name": "python",
   "nbconvert_exporter": "python",
   "pygments_lexer": "ipython3",
   "version": "3.10.5"
  }
 },
 "nbformat": 4,
 "nbformat_minor": 5
}
