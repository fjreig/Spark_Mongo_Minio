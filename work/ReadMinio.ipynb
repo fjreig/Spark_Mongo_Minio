{
 "cells": [
  {
   "cell_type": "code",
   "execution_count": 2,
   "id": "bdf7fa27-58d8-45c4-aa74-c0ff1c4db94f",
   "metadata": {},
   "outputs": [],
   "source": [
    "import pyspark\n",
    "from pyspark import SparkContext\n",
    "from pyspark.sql import SparkSession\n",
    "from pyspark.sql import SQLContext\n",
    "from pyspark.sql.functions import *\n",
    "from delta import *"
   ]
  },
  {
   "cell_type": "code",
   "execution_count": 3,
   "id": "3bfb3885-76e4-4063-a5fb-c10509e52a19",
   "metadata": {},
   "outputs": [],
   "source": [
    "builder = pyspark.sql.SparkSession.builder.appName(\"DeltaApp\") \\\n",
    "    .config(\"spark.sql.extensions\", \"io.delta.sql.DeltaSparkSessionExtension\") \\\n",
    "    .config(\"spark.sql.catalog.spark_catalog\", \"org.apache.spark.sql.delta.catalog.DeltaCatalog\") "
   ]
  },
  {
   "cell_type": "code",
   "execution_count": 4,
   "id": "ba82b776-d969-4f2f-b99c-4fdb32e53436",
   "metadata": {},
   "outputs": [],
   "source": [
    "spark = configure_spark_with_delta_pip(builder).master('local[*]').getOrCreate()"
   ]
  },
  {
   "cell_type": "code",
   "execution_count": 5,
   "id": "f4c4a47a-6c05-47bd-b374-2fb5390a2ef0",
   "metadata": {},
   "outputs": [],
   "source": [
    "spark._jsc.hadoopConfiguration().set(\"fs.s3a.endpoint\", \"http://minio:9000\")\n",
    "spark._jsc.hadoopConfiguration().set(\"fs.s3a.access.key\", \"FFD34B2AC56E76E8BB9E7EFD7D283\")\n",
    "spark._jsc.hadoopConfiguration().set(\"fs.s3a.secret.key\", \"47A13EFAB1CA1F253FD6F56DEF769\")\n",
    "spark._jsc.hadoopConfiguration().set(\"fs.s3a.impl\",\"org.apache.hadoop.fs.s3a.S3AFileSystem\")\n",
    "spark._jsc.hadoopConfiguration().set(\"fs.s3a.path.style.access\", \"true\")\n",
    "spark._jsc.hadoopConfiguration().set(\"fs.s3a.aws.credentials.provider\",\"org.apache.hadoop.fs.s3a.SimpleAWSCredentialsProvider\")\n",
    "spark._jsc.hadoopConfiguration().set(\"spark.jars\", \"postgresql-42.2.14.jar\")"
   ]
  },
  {
   "cell_type": "code",
   "execution_count": 6,
   "id": "f74ab687-eec7-412f-ab09-2e823386c679",
   "metadata": {},
   "outputs": [],
   "source": [
    "df = spark.read.format(\"json\").option(\"inferSchema\", \"true\").json(\"s3a://landing/BTC//*.json\")"
   ]
  },
  {
   "cell_type": "code",
   "execution_count": 7,
   "id": "a408c48e-2d9a-4460-b813-dccf9cb896b3",
   "metadata": {},
   "outputs": [
    {
     "name": "stdout",
     "output_type": "stream",
     "text": [
      "+------+--------------------+\n",
      "|Numero|             country|\n",
      "+------+--------------------+\n",
      "|    15|                    |\n",
      "|  1080|       United States|\n",
      "|    91|        South Africa|\n",
      "|   407|      United Kingdom|\n",
      "|   230|              Russia|\n",
      "|    48|            Thailand|\n",
      "|   318|              Canada|\n",
      "|    93|           Australia|\n",
      "|    11|           Singapore|\n",
      "|    27|             Belgium|\n",
      "|   439|              Mexico|\n",
      "|   166|               Spain|\n",
      "|   119|              France|\n",
      "|    31|United Arab Emirates|\n",
      "|     8|   Republic of Korea|\n",
      "|    29|            Pakistan|\n",
      "|    26|               Libya|\n",
      "|     6|              Gambia|\n",
      "|    17|         Ivory Coast|\n",
      "|    89|             Ukraine|\n",
      "+------+--------------------+\n",
      "only showing top 20 rows\n",
      "\n"
     ]
    }
   ],
   "source": [
    "df.show()"
   ]
  },
  {
   "cell_type": "code",
   "execution_count": null,
   "id": "a443bf53-f892-444e-9941-f9a22b23c462",
   "metadata": {},
   "outputs": [],
   "source": []
  }
 ],
 "metadata": {
  "kernelspec": {
   "display_name": "Python 3 (ipykernel)",
   "language": "python",
   "name": "python3"
  },
  "language_info": {
   "codemirror_mode": {
    "name": "ipython",
    "version": 3
   },
   "file_extension": ".py",
   "mimetype": "text/x-python",
   "name": "python",
   "nbconvert_exporter": "python",
   "pygments_lexer": "ipython3",
   "version": "3.10.5"
  }
 },
 "nbformat": 4,
 "nbformat_minor": 5
}
